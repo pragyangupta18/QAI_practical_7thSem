{
 "cells": [
  {
   "cell_type": "code",
   "execution_count": 12,
   "id": "3664e03e-d8ac-477c-9f69-ff1f0fe699fb",
   "metadata": {},
   "outputs": [],
   "source": [
    "from qiskit import QuantumCircuit\n",
    "from qiskit_aer import AerSimulator\n",
    "from qiskit.visualization import plot_histogram"
   ]
  },
  {
   "cell_type": "code",
   "execution_count": 13,
   "id": "5ccb437f-a5cb-474e-be45-4438d0e1a20e",
   "metadata": {},
   "outputs": [],
   "source": [
    "from qiskit_aer.noise import NoiseModel,depolarizing_error"
   ]
  },
  {
   "cell_type": "code",
   "execution_count": 14,
   "id": "20ac1c5a-d9f0-4f1e-908d-72a6b8bfde46",
   "metadata": {},
   "outputs": [],
   "source": [
    "qc=QuantumCircuit(3,3)"
   ]
  },
  {
   "cell_type": "code",
   "execution_count": 15,
   "id": "f95d5294-eff6-4066-816c-9141b056607a",
   "metadata": {},
   "outputs": [
    {
     "data": {
      "text/plain": [
       "<qiskit.circuit.instructionset.InstructionSet at 0x11b6ca800>"
      ]
     },
     "execution_count": 15,
     "metadata": {},
     "output_type": "execute_result"
    }
   ],
   "source": [
    "qc.h(0)\n",
    "qc.cx(0,1)\n",
    "qc.cx(0,2)\n",
    "qc.measure([0,1,2],[0,1,2])"
   ]
  },
  {
   "cell_type": "code",
   "execution_count": 16,
   "id": "5f790a53-73e2-4473-a210-c4494ee1cb5d",
   "metadata": {},
   "outputs": [],
   "source": [
    "noise_model = NoiseModel()"
   ]
  },
  {
   "cell_type": "code",
   "execution_count": 17,
   "id": "481afeb2-3b34-4194-bd3a-f335ad3e099c",
   "metadata": {},
   "outputs": [],
   "source": [
    "# Add depolarizing noise for single-qubit gates and two-qubit gates\n",
    "depol_1q = depolarizing_error(0.01, 1)\n",
    "depol_2q = depolarizing_error(0.02, 2)\n",
    "noise_model.add_all_qubit_quantum_error(depol_1q, ['u3', 'x', 'h'])\n",
    "noise_model.add_all_qubit_quantum_error(depol_2q, ['cx'])"
   ]
  },
  {
   "cell_type": "code",
   "execution_count": 18,
   "id": "86de26e4-00fa-4d32-b647-9a2bdb4ec1dd",
   "metadata": {},
   "outputs": [],
   "source": [
    "backend = AerSimulator()"
   ]
  },
  {
   "cell_type": "code",
   "execution_count": 19,
   "id": "0352b828-456f-4677-b14f-8c5348c3fa0c",
   "metadata": {},
   "outputs": [],
   "source": [
    "result_with_noise = backend.run(qc,noise_model=noise_model, shots=1024).result()"
   ]
  },
  {
   "cell_type": "code",
   "execution_count": 20,
   "id": "1a91cf1d-03b9-4cb7-b47e-2dfe63ff6c57",
   "metadata": {},
   "outputs": [],
   "source": [
    "noisy_counts = result_with_noise.get_counts(qc)"
   ]
  },
  {
   "cell_type": "code",
   "execution_count": 21,
   "id": "0d54fd90-a597-4f24-a71c-32fb6bcb2a41",
   "metadata": {},
   "outputs": [],
   "source": [
    "mitigated_counts = {key: noisy_counts[key] * (1 - 0.02) for key in noisy_counts}"
   ]
  },
  {
   "cell_type": "code",
   "execution_count": 22,
   "id": "5c88a7eb-7e6e-43f8-9d1e-b9c710bb4017",
   "metadata": {},
   "outputs": [
    {
     "data": {
      "image/png": "[encoded data removed]",
      "text/plain": [
       "<Figure size 640x480 with 1 Axes>"
      ]
     },
     "execution_count": 22,
     "metadata": {},
     "output_type": "execute_result"
    }
   ],
   "source": [
    "plot_histogram(mitigated_counts)"
   ]
  },
  {
   "cell_type": "code",
   "execution_count": 23,
   "id": "d05de49a-8aa7-4621-996e-91d2bbeb1a3e",
   "metadata": {},
   "outputs": [
    {
     "name": "stdout",
     "output_type": "stream",
     "text": [
      "Original counts:\n",
      "{'001': 3, '110': 2, '100': 4, '011': 4, '111': 491, '101': 7, '010': 8, '000': 505}\n"
     ]
    }
   ],
   "source": [
    "print(\"Original counts:\")\n",
    "print(noisy_counts)"
   ]
  },
  {
   "cell_type": "code",
   "execution_count": 24,
   "id": "4edad602-14e8-47df-980a-7a03cae1c606",
   "metadata": {},
   "outputs": [
    {
     "name": "stdout",
     "output_type": "stream",
     "text": [
      "Mitigated counts:\n",
      "{'001': 2.94, '110': 1.96, '100': 3.92, '011': 3.92, '111': 481.18, '101': 6.859999999999999, '010': 7.84, '000': 494.9}\n"
     ]
    }
   ],
   "source": [
    "print(\"Mitigated counts:\")\n",
    "print(mitigated_counts)"
   ]
  },
  {
   "cell_type": "code",
   "execution_count": null,
   "id": "c1ffaf58-6ac2-4294-90d9-70f0d9014a50",
   "metadata": {},
   "outputs": [],
   "source": []
  }
 ],
 "metadata": {
  "kernelspec": {
   "display_name": "Python 3 (ipykernel)",
   "language": "python",
   "name": "python3"
  },
  "language_info": {
   "codemirror_mode": {
    "name": "ipython",
    "version": 3
   },
   "file_extension": ".py",
   "mimetype": "text/x-python",
   "name": "python",
   "nbconvert_exporter": "python",
   "pygments_lexer": "ipython3",
   "version": "3.12.4"
  }
 },
 "nbformat": 4,
 "nbformat_minor": 5
}
